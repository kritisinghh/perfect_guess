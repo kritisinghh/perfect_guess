{
  "nbformat": 4,
  "nbformat_minor": 0,
  "metadata": {
    "colab": {
      "provenance": [],
      "authorship_tag": "ABX9TyPVQzykhItKiOzCdaIrK5Bw",
      "include_colab_link": true
    },
    "kernelspec": {
      "name": "python3",
      "display_name": "Python 3"
    },
    "language_info": {
      "name": "python"
    }
  },
  "cells": [
    {
      "cell_type": "markdown",
      "metadata": {
        "id": "view-in-github",
        "colab_type": "text"
      },
      "source": [
        "<a href=\"https://colab.research.google.com/github/kritisinghh/perfect_guess/blob/main/perfect_guess.ipynb\" target=\"_parent\"><img src=\"https://colab.research.google.com/assets/colab-badge.svg\" alt=\"Open In Colab\"/></a>"
      ]
    },
    {
      "cell_type": "code",
      "execution_count": 2,
      "metadata": {
        "colab": {
          "base_uri": "https://localhost:8080/"
        },
        "id": "TgGgFPJ5dCc0",
        "outputId": "32e25585-3bf7-4f49-aea2-1f3dd89812e8"
      },
      "outputs": [
        {
          "output_type": "stream",
          "name": "stdout",
          "text": [
            "Enter the Number: 50\n",
            "Enter a lower Number\n",
            "Enter the Number: 25\n",
            "Enter a higher Number\n",
            "Enter the Number: 35\n",
            "You have guessed the number 35 in 3 attempt!\n"
          ]
        }
      ],
      "source": [
        "from random import randint\n",
        "n=randint(1,100)\n",
        "a=-1\n",
        "guesses=1\n",
        "while(a!=n):\n",
        "    a=int(input(\"Enter the Number: \"))\n",
        "    if (n>a):\n",
        "        print(\"Enter a higher Number\")\n",
        "        guesses+=1\n",
        "    elif(n<a):\n",
        "        print(\"Enter a lower Number\")\n",
        "        guesses+=1\n",
        "print(f\"You have guessed the number {n} in {guesses} attempt!\")"
      ]
    }
  ]
}